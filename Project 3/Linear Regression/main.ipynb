{
 "cells": [
  {
   "cell_type": "code",
   "metadata": {
    "ExecuteTime": {
     "end_time": "2024-07-18T23:42:36.075076Z",
     "start_time": "2024-07-18T23:42:34.578751Z"
    }
   },
   "source": [
    "import linreg\n",
    "import multiple_gradient\n",
    "import pandas\n",
    "import numpy as np\n",
    "import matplotlib.pyplot as plt\n",
    "from sklearn.model_selection import train_test_split\n",
    "from sklearn.metrics import mean_squared_error, r2_score, accuracy_score\n",
    "import sklearn\n",
    "#from sklearn.linear_model import LinearRegression"
   ],
   "outputs": [],
   "execution_count": 1
  },
  {
   "cell_type": "code",
   "metadata": {
    "ExecuteTime": {
     "end_time": "2024-07-18T23:42:36.113656Z",
     "start_time": "2024-07-18T23:42:36.076252Z"
    }
   },
   "source": [
    "df = pandas.read_csv('advertising.csv')\n",
    "linreg = linreg.LinearRegression()\n",
    "df.describe()"
   ],
   "outputs": [
    {
     "data": {
      "text/plain": [
       "               TV       Radio   Newspaper       Sales\n",
       "count  200.000000  200.000000  200.000000  200.000000\n",
       "mean   147.042500   23.264000   30.554000   15.130500\n",
       "std     85.854236   14.846809   21.778621    5.283892\n",
       "min      0.700000    0.000000    0.300000    1.600000\n",
       "25%     74.375000    9.975000   12.750000   11.000000\n",
       "50%    149.750000   22.900000   25.750000   16.000000\n",
       "75%    218.825000   36.525000   45.100000   19.050000\n",
       "max    296.400000   49.600000  114.000000   27.000000"
      ],
      "text/html": [
       "<div>\n",
       "<style scoped>\n",
       "    .dataframe tbody tr th:only-of-type {\n",
       "        vertical-align: middle;\n",
       "    }\n",
       "\n",
       "    .dataframe tbody tr th {\n",
       "        vertical-align: top;\n",
       "    }\n",
       "\n",
       "    .dataframe thead th {\n",
       "        text-align: right;\n",
       "    }\n",
       "</style>\n",
       "<table border=\"1\" class=\"dataframe\">\n",
       "  <thead>\n",
       "    <tr style=\"text-align: right;\">\n",
       "      <th></th>\n",
       "      <th>TV</th>\n",
       "      <th>Radio</th>\n",
       "      <th>Newspaper</th>\n",
       "      <th>Sales</th>\n",
       "    </tr>\n",
       "  </thead>\n",
       "  <tbody>\n",
       "    <tr>\n",
       "      <th>count</th>\n",
       "      <td>200.000000</td>\n",
       "      <td>200.000000</td>\n",
       "      <td>200.000000</td>\n",
       "      <td>200.000000</td>\n",
       "    </tr>\n",
       "    <tr>\n",
       "      <th>mean</th>\n",
       "      <td>147.042500</td>\n",
       "      <td>23.264000</td>\n",
       "      <td>30.554000</td>\n",
       "      <td>15.130500</td>\n",
       "    </tr>\n",
       "    <tr>\n",
       "      <th>std</th>\n",
       "      <td>85.854236</td>\n",
       "      <td>14.846809</td>\n",
       "      <td>21.778621</td>\n",
       "      <td>5.283892</td>\n",
       "    </tr>\n",
       "    <tr>\n",
       "      <th>min</th>\n",
       "      <td>0.700000</td>\n",
       "      <td>0.000000</td>\n",
       "      <td>0.300000</td>\n",
       "      <td>1.600000</td>\n",
       "    </tr>\n",
       "    <tr>\n",
       "      <th>25%</th>\n",
       "      <td>74.375000</td>\n",
       "      <td>9.975000</td>\n",
       "      <td>12.750000</td>\n",
       "      <td>11.000000</td>\n",
       "    </tr>\n",
       "    <tr>\n",
       "      <th>50%</th>\n",
       "      <td>149.750000</td>\n",
       "      <td>22.900000</td>\n",
       "      <td>25.750000</td>\n",
       "      <td>16.000000</td>\n",
       "    </tr>\n",
       "    <tr>\n",
       "      <th>75%</th>\n",
       "      <td>218.825000</td>\n",
       "      <td>36.525000</td>\n",
       "      <td>45.100000</td>\n",
       "      <td>19.050000</td>\n",
       "    </tr>\n",
       "    <tr>\n",
       "      <th>max</th>\n",
       "      <td>296.400000</td>\n",
       "      <td>49.600000</td>\n",
       "      <td>114.000000</td>\n",
       "      <td>27.000000</td>\n",
       "    </tr>\n",
       "  </tbody>\n",
       "</table>\n",
       "</div>"
      ]
     },
     "execution_count": 2,
     "metadata": {},
     "output_type": "execute_result"
    }
   ],
   "execution_count": 2
  },
  {
   "cell_type": "code",
   "metadata": {
    "ExecuteTime": {
     "end_time": "2024-07-18T23:42:36.132792Z",
     "start_time": "2024-07-18T23:42:36.114906Z"
    }
   },
   "source": [
    "X = df[[\"TV\", \"Newspaper\", \"Radio\"]].values\n",
    "y = df['Sales'].values\n",
    "X_train, X_test, y_train, y_test = train_test_split(X, y, test_size = 0.2, random_state=0)\n",
    "X_train"
   ],
   "outputs": [
    {
     "data": {
      "text/plain": [
       "array([[ 36.9,  65.6,  38.6],\n",
       "       [ 31.5,   2.2,  24.6],\n",
       "       [142.9,  12.6,  29.3],\n",
       "       [209.6,  10.7,  20.6],\n",
       "       [215.4,  57.6,  23.6],\n",
       "       [102.7,   8.4,  29.6],\n",
       "       [  8.6,   1. ,   2.1],\n",
       "       [ 16.9,  89.4,  43.7],\n",
       "       [125.7,  79.2,  36.9],\n",
       "       [104.6,  34.4,   5.7],\n",
       "       [109.8,  31.7,  14.3],\n",
       "       [229.5,  74.2,  32.3],\n",
       "       [253.8,  30. ,  21.3],\n",
       "       [184.9,  22. ,  21. ],\n",
       "       [ 44.7,  20.6,  25.8],\n",
       "       [ 62.3,  18.3,  12.6],\n",
       "       [292.9,  43.2,  28.3],\n",
       "       [172.5,  30.7,  18.1],\n",
       "       [202.5,  31.6,  22.3],\n",
       "       [  7.3,  41.4,  28.1],\n",
       "       [265.2,  43. ,   2.9],\n",
       "       [197.6,   5.9,   3.5],\n",
       "       [218.5,  27.4,   5.4],\n",
       "       [147.3,  19.1,  23.9],\n",
       "       [171.3,  37.7,  39.7],\n",
       "       [217.7,  59. ,  33.5],\n",
       "       [262.7,  15.9,  28.8],\n",
       "       [163.5,   7.4,  36.8],\n",
       "       [100.4,   3.6,   9.6],\n",
       "       [ 76.3,  16. ,  27.5],\n",
       "       [184.9,   1.7,  43.9],\n",
       "       [134.3,   9.3,   4.9],\n",
       "       [273.7,  59.7,  28.9],\n",
       "       [296.4, 100.9,  36.3],\n",
       "       [ 96.2,  38.9,  14.8],\n",
       "       [109.8,  51.4,  47.8],\n",
       "       [255.4,   5.5,  26.9],\n",
       "       [204.1,  46. ,  32.9],\n",
       "       [240.1,  22.9,  16.7],\n",
       "       [193.7,  75.6,  35.4],\n",
       "       [191.1,  18.2,  28.7],\n",
       "       [ 89.7,  35.7,   9.9],\n",
       "       [ 43. ,  20.5,  25.9],\n",
       "       [ 38.2,  13.8,   3.7],\n",
       "       [ 13.1,  25.6,   0.4],\n",
       "       [239.3,  27.3,  15.5],\n",
       "       [ 17.2,  69.3,  45.9],\n",
       "       [210.7,   9.3,  29.5],\n",
       "       [ 25.6,   9.3,  39. ],\n",
       "       [177. ,   6.4,   9.3],\n",
       "       [206.9,  26.4,   8.4],\n",
       "       [ 66.1,  24.2,   5.8],\n",
       "       [149.7,   6. ,  35.6],\n",
       "       [129.4,  31.3,   5.7],\n",
       "       [ 94.2,   8.1,   4.9],\n",
       "       [276.7,  23.7,   2.3],\n",
       "       [276.9,  41.8,  48.9],\n",
       "       [  7.8,  50.6,  38.9],\n",
       "       [250.9,  72.3,  36.5],\n",
       "       [175.7,   2.4,  15.4],\n",
       "       [ 11.7,  45.2,  36.9],\n",
       "       [ 75.5,   6. ,  10.8],\n",
       "       [199.8,  34.6,   3.1],\n",
       "       [230.1,  69.2,  37.8],\n",
       "       [107.4,  10.9,  14. ],\n",
       "       [225.8,  56.5,   8.2],\n",
       "       [163.3,  52.9,  31.6],\n",
       "       [131.1,  28.9,  42.8],\n",
       "       [206.8,  19.4,   5.2],\n",
       "       [177. ,  38.7,  33.4],\n",
       "       [216.8,  27.2,  43.9],\n",
       "       [ 66.9,  36.8,  11.7],\n",
       "       [227.2,  49.9,  15.8],\n",
       "       [193.2,  65.7,  18.4],\n",
       "       [ 97.5,   7.2,   7.6],\n",
       "       [ 85.7,  49.3,  35.8],\n",
       "       [228.3,  26.2,  16.9],\n",
       "       [139.5,  26.6,   2.1],\n",
       "       [ 48.3,   8.5,  47. ],\n",
       "       [218.4,  53.4,  27.7],\n",
       "       [195.4,  52.9,  47.7],\n",
       "       [  5.4,   9.4,  29.9],\n",
       "       [238.2,   5.3,  34.3],\n",
       "       [216.4,  39.6,  41.7],\n",
       "       [222.4,  49.8,   4.3],\n",
       "       [ 27.5,  20.7,   1.6],\n",
       "       [151.5,  58.5,  41.3],\n",
       "       [139.2,  25.6,  14.3],\n",
       "       [117.2,   5.4,  14.7],\n",
       "       [283.6,  66.2,  42. ],\n",
       "       [ 57.5,  23.5,  32.8],\n",
       "       [237.4,  11. ,  27.5],\n",
       "       [213.5,  33.8,  43. ],\n",
       "       [ 18.8,  50.4,  21.7],\n",
       "       [  4.1,   5.7,  11.6],\n",
       "       [164.5,  47.4,  20.9],\n",
       "       [ 93.9,  50.5,  43.5],\n",
       "       [ 28.6,  33. ,   1.5],\n",
       "       [232.1,   8.7,   8.6],\n",
       "       [214.7,   4. ,  24. ],\n",
       "       [ 19.4,  22.3,  16. ],\n",
       "       [280.2,  21.4,  10.1],\n",
       "       [290.7,   8.5,   4.1],\n",
       "       [136.2,  16.6,  19.2],\n",
       "       [ 69. ,   0.9,   9.3],\n",
       "       [ 44.5,  45.1,  39.3],\n",
       "       [141.3,  46.2,  26.8],\n",
       "       [188.4,  25.6,  18.1],\n",
       "       [293.6,   1.8,  27.7],\n",
       "       [137.9,  59. ,  46.4],\n",
       "       [  8.4,   2.1,  27.2],\n",
       "       [168.4,  12.8,   7.1],\n",
       "       [281.4,  55.8,  39.6],\n",
       "       [ 43.1,  35.1,  26.7],\n",
       "       [219.8,  45.1,  33.5],\n",
       "       [182.6,  58.7,  46.2],\n",
       "       [149.8,  24.3,   1.3],\n",
       "       [220.3,   3.2,  49. ],\n",
       "       [ 95.7,   7.4,   1.4],\n",
       "       [248.8,  22.9,  27.1],\n",
       "       [ 78.2,  34.5,  46.8],\n",
       "       [121. ,  48.7,   8.4],\n",
       "       [112.9,  38.6,  17.4],\n",
       "       [ 17.9,  21.6,  37.6],\n",
       "       [ 80.2,   9.2,   0. ],\n",
       "       [248.4,  20.3,  30.2],\n",
       "       [ 97.2,  30. ,   1.5],\n",
       "       [220.5,  37.9,  33.2],\n",
       "       [284.3,   6.4,  10.6],\n",
       "       [243.2,  44.3,  49. ],\n",
       "       [ 70.6,  40.8,  16. ],\n",
       "       [135.2,  45.9,  41.7],\n",
       "       [ 75.3,  32.5,  20.3],\n",
       "       [116. ,  23.1,   7.7],\n",
       "       [ 75.1,  52.7,  35. ],\n",
       "       [ 38. ,  11.9,  40.3],\n",
       "       [166.8,   3.6,  42. ],\n",
       "       [ 26.8,  19.3,  33. ],\n",
       "       [120.5,  14.2,  28.5],\n",
       "       [262.9,  19.5,   3.5],\n",
       "       [234.5,  84.8,   3.4],\n",
       "       [239.8,  36.9,   4.1],\n",
       "       [286. ,   3.7,  13.9],\n",
       "       [222.4,  13.1,   3.4],\n",
       "       [ 39.5,   5.8,  41.1],\n",
       "       [228. ,  32. ,  37.7],\n",
       "       [210.8,  37.7,  49.6],\n",
       "       [ 73.4,  12.9,  17. ],\n",
       "       [ 88.3,  73.4,  25.5],\n",
       "       [199.1,  38.7,  30.6],\n",
       "       [110.7,  63.2,  40.6],\n",
       "       [266.9,   5. ,  43.8],\n",
       "       [237.4,  23.5,   5.1],\n",
       "       [199.8,  21.2,   2.6],\n",
       "       [187.9,  17.9,  17.2],\n",
       "       [139.3,  10.2,  14.5],\n",
       "       [ 17.2,  31.6,   4.1],\n",
       "       [ 76.4,  14.8,   0.8],\n",
       "       [239.9,  18.5,  41.5],\n",
       "       [ 19.6,  17. ,  20.1]])"
      ]
     },
     "execution_count": 3,
     "metadata": {},
     "output_type": "execute_result"
    }
   ],
   "execution_count": 3
  },
  {
   "metadata": {
    "ExecuteTime": {
     "end_time": "2024-07-18T23:42:36.139693Z",
     "start_time": "2024-07-18T23:42:36.136894Z"
    }
   },
   "cell_type": "code",
   "source": "#plt.scatter(X,y)",
   "outputs": [],
   "execution_count": 4
  },
  {
   "cell_type": "code",
   "metadata": {
    "ExecuteTime": {
     "end_time": "2024-07-18T23:42:36.163302Z",
     "start_time": "2024-07-18T23:42:36.146111Z"
    }
   },
   "source": [
    "linreg.fit(X_train, y_train)"
   ],
   "outputs": [
    {
     "name": "stdout",
     "output_type": "stream",
     "text": [
      "(4, 160)\n",
      "2\n",
      "(160, 4)\n",
      "2\n",
      "[[1.60000000e+02 2.40829000e+04 4.82010000e+03 3.74210000e+03]\n",
      " [2.40829000e+04 4.77253599e+06 7.57480660e+05 5.72021790e+05]\n",
      " [4.82010000e+03 7.57480660e+05 2.18329450e+05 1.28955120e+05]\n",
      " [3.74210000e+03 5.72021790e+05 1.28955120e+05 1.22048630e+05]]\n"
     ]
    }
   ],
   "execution_count": 5
  },
  {
   "cell_type": "code",
   "metadata": {
    "ExecuteTime": {
     "end_time": "2024-07-18T23:42:36.175399Z",
     "start_time": "2024-07-18T23:42:36.166758Z"
    }
   },
   "source": [
    "predictions = linreg.predict(X_test)"
   ],
   "outputs": [],
   "execution_count": 6
  },
  {
   "cell_type": "code",
   "metadata": {
    "ExecuteTime": {
     "end_time": "2024-07-18T23:42:36.191984Z",
     "start_time": "2024-07-18T23:42:36.182653Z"
    }
   },
   "source": [
    "predictions"
   ],
   "outputs": [
    {
     "data": {
      "text/plain": [
       "array([10.70988945,  8.68629773,  9.5778695 , 24.86207988, 14.65584473,\n",
       "        8.3214275 , 10.43048002, 18.4453765 ,  9.73394291, 17.9290798 ,\n",
       "       23.369886  , 10.67916356, 13.44032325, 17.17416235, 11.77380187,\n",
       "       13.37072678, 21.26009906,  9.19666875, 14.13201846, 18.9260716 ,\n",
       "       24.75507991, 12.48481182, 16.57130583, 13.77344772,  7.79299106,\n",
       "       15.19648316, 14.71607944, 20.73862119, 17.01041859,  8.83474391,\n",
       "       12.09424377, 20.74886454, 21.26147987, 21.90420095,  7.08087067,\n",
       "        7.04431681,  9.15949871, 15.47796148, 13.28282334,  7.23769883])"
      ]
     },
     "execution_count": 7,
     "metadata": {},
     "output_type": "execute_result"
    }
   ],
   "execution_count": 7
  },
  {
   "cell_type": "code",
   "metadata": {
    "ExecuteTime": {
     "end_time": "2024-07-18T23:42:36.204785Z",
     "start_time": "2024-07-18T23:42:36.196137Z"
    }
   },
   "source": [
    "y_test"
   ],
   "outputs": [
    {
     "data": {
      "text/plain": [
       "array([11.3,  8.4, 12. , 25.4, 16.7,  8.7,  7.2, 18.2,  9.2, 16.6, 24.2,\n",
       "       10.6, 15.5, 20.6, 11.8, 13.2, 17.4,  1.6, 14.7, 17. , 26.2, 10.3,\n",
       "       16.1, 12.9,  8.1, 15.2, 17.6, 22.6, 16.6,  8.5, 12.5, 23.7, 16.1,\n",
       "       21.8,  5.6,  6.7,  9.7, 17.9, 13.6,  7.2])"
      ]
     },
     "execution_count": 8,
     "metadata": {},
     "output_type": "execute_result"
    }
   ],
   "execution_count": 8
  },
  {
   "metadata": {
    "ExecuteTime": {
     "end_time": "2024-07-18T23:42:36.210458Z",
     "start_time": "2024-07-18T23:42:36.206004Z"
    }
   },
   "cell_type": "code",
   "source": [
    "MSE = mean_squared_error(y_test, predictions)\n",
    "r2 = r2_score(y_test, predictions)"
   ],
   "outputs": [],
   "execution_count": 9
  },
  {
   "metadata": {
    "ExecuteTime": {
     "end_time": "2024-07-18T23:42:36.215323Z",
     "start_time": "2024-07-18T23:42:36.212236Z"
    }
   },
   "cell_type": "code",
   "source": [
    "print('Mean Squared Error:', MSE)\n",
    "print('R-squared Score:', r2)"
   ],
   "outputs": [
    {
     "name": "stdout",
     "output_type": "stream",
     "text": [
      "Mean Squared Error: 4.522552562041302\n",
      "R-squared Score: 0.864505392396772\n"
     ]
    }
   ],
   "execution_count": 10
  },
  {
   "cell_type": "code",
   "metadata": {
    "ExecuteTime": {
     "end_time": "2024-07-18T23:42:36.220173Z",
     "start_time": "2024-07-18T23:42:36.216641Z"
    }
   },
   "source": [
    "import multiple_gradient"
   ],
   "outputs": [],
   "execution_count": 11
  },
  {
   "cell_type": "code",
   "metadata": {
    "ExecuteTime": {
     "end_time": "2024-07-18T23:42:36.262480Z",
     "start_time": "2024-07-18T23:42:36.223683Z"
    }
   },
   "source": [
    "linear_reg = multiple_gradient.LinearRegression()\n",
    "linear_reg.fit(X_train, y_train)\n",
    "predictions = linear_reg.predict(X_test)\n",
    "print(predictions)"
   ],
   "outputs": [
    {
     "name": "stdout",
     "output_type": "stream",
     "text": [
      "[[-1.34155345  1.65941078  1.0355176 ]\n",
      " [-1.4053143  -1.30629738  0.08249594]\n",
      " [-0.08995151 -0.81980897  0.40243892]\n",
      " [ 0.69761311 -0.90868666 -0.18979597]\n",
      " [ 0.76609699  1.28518893  0.01442296]\n",
      " [-0.56461564 -1.01627544  0.42286082]\n",
      " [-1.67570755 -1.36243065 -1.44914602]\n",
      " [-1.57770476  2.77272078  1.38268978]\n",
      " [-0.29304164  2.29558792  0.91979354]\n",
      " [-0.54218127  0.19994556 -1.20408331]\n",
      " [-0.48078193  0.07364569 -0.61865571]\n",
      " [ 0.93258366  2.06169926  0.60665785]\n",
      " [ 1.2195075  -0.00587645 -0.14214488]\n",
      " [ 0.40596624 -0.3800983  -0.16256678]\n",
      " [-1.24945444 -0.44558712  0.16418351]\n",
      " [-1.04164129 -0.55317591 -0.73437977]\n",
      " [ 1.68118331  0.6115896   0.33436595]\n",
      " [ 0.25955243  0.02686796 -0.35997841]\n",
      " [ 0.61377939  0.06896792 -0.07407191]\n",
      " [-1.69105739  0.52738968  0.32075135]\n",
      " [ 1.35411375  0.60223405 -1.39468764]\n",
      " [ 0.55592232 -1.13321977 -1.35384385]\n",
      " [ 0.80270044 -0.12749855 -1.2245052 ]\n",
      " [-0.03799822 -0.51575372  0.03484485]\n",
      " [ 0.24538335  0.35431208  1.11039787]\n",
      " [ 0.79325439  1.35067775  0.68834542]\n",
      " [ 1.32459483 -0.66544246  0.36840244]\n",
      " [ 0.15328434 -1.06305318  0.91298624]\n",
      " [-0.59177304 -1.24080855 -0.9385987 ]\n",
      " [-0.87633537 -0.66076469  0.27990757]\n",
      " [ 0.40596624 -1.32968624  1.39630437]\n",
      " [-0.19149657 -0.97417549 -1.25854169]\n",
      " [ 1.45447805  1.38342216  0.37520973]\n",
      " [ 1.72250979  3.31066468  0.87894975]\n",
      " [-0.64136482  0.41044535 -0.58461923]\n",
      " [-0.48078193  0.99516699  1.66178898]\n",
      " [ 1.23839961 -1.15193086  0.23906378]\n",
      " [ 0.6326715   0.74256725  0.64750164]\n",
      " [ 1.05774385 -0.33799834 -0.45528057]\n",
      " [ 0.50987282  2.12718809  0.81768408]\n",
      " [ 0.47917315 -0.55785368  0.36159514]\n",
      " [-0.71811399  0.26075661 -0.91817681]\n",
      " [-1.2695273  -0.4502649   0.17099081]\n",
      " [-1.32620361 -0.7636757  -1.34022926]\n",
      " [-1.62257351 -0.21169847 -1.56487008]\n",
      " [ 1.0482978  -0.13217633 -0.53696814]\n",
      " [-1.57416249  1.83248838  1.53245032]\n",
      " [ 0.71060143 -0.97417549  0.41605352]\n",
      " [-1.47497894 -0.97417549  1.06274679]\n",
      " [ 0.31268647 -1.10983091 -0.95902059]\n",
      " [ 0.66573268 -0.17427628 -1.02028627]\n",
      " [-0.99677254 -0.27718729 -1.19727601]\n",
      " [-0.00966006 -1.128542    0.83129867]\n",
      " [-0.24935364  0.0549346  -1.20408331]\n",
      " [-0.66497995 -1.03030876 -1.25854169]\n",
      " [ 1.48990075 -0.30057616 -1.43553142]\n",
      " [ 1.49226226  0.54610077  1.73666925]\n",
      " [-1.68515361  0.95774481  1.05593949]\n",
      " [ 1.18526556  1.97282157  0.89256435]\n",
      " [ 0.29733664 -1.29694183 -0.54377544]\n",
      " [-1.6391041   0.70514506  0.91979354]\n",
      " [-0.88578142 -1.128542   -0.85691113]\n",
      " [ 0.58189897  0.20930111 -1.38107304]\n",
      " [ 0.9396682   1.82781061  0.98105922]\n",
      " [-0.50912008 -0.89933112 -0.63907761]\n",
      " [ 0.88889567  1.23373342 -1.03390087]\n",
      " [ 0.15092283  1.06533359  0.55900677]\n",
      " [-0.22928078 -0.05733196  1.3214241 ]\n",
      " [ 0.66455192 -0.5017204  -1.23811979]\n",
      " [ 0.31268647  0.40108981  0.68153812]\n",
      " [ 0.78262758 -0.1368541   1.39630437]\n",
      " [-0.98732649  0.31221212 -0.79564545]\n",
      " [ 0.90542626  0.9250004  -0.51654625]\n",
      " [ 0.50396903  1.66408855 -0.33955651]\n",
      " [-0.62601498 -1.07240872 -1.07474465]\n",
      " [-0.76534425  0.89693376  0.84491327]\n",
      " [ 0.91841458 -0.18363183 -0.44166598]\n",
      " [-0.13009723 -0.16492074 -1.44914602]\n",
      " [-1.2069472  -1.01159767  1.6073306 ]\n",
      " [ 0.80151968  1.08872246  0.29352216]\n",
      " [ 0.52994568  1.06533359  1.65498168]\n",
      " [-1.71349176 -0.96949771  0.44328271]\n",
      " [ 1.03530948 -1.16128641  0.7428038 ]\n",
      " [ 0.77790455  0.44318977  1.24654382]\n",
      " [ 0.84874995  0.92032262 -1.29938547]\n",
      " [-1.45254457 -0.44090935 -1.48318251]\n",
      " [ 0.01159355  1.32728888  1.21931463]\n",
      " [-0.1336395  -0.21169847 -0.61865571]\n",
      " [-0.39340594 -1.15660864 -0.59142652]\n",
      " [ 1.57137295  1.68747741  1.26696572]\n",
      " [-1.0983176  -0.3099317   0.64069434]\n",
      " [ 1.02586343 -0.89465334  0.27990757]\n",
      " [ 0.74366261  0.17187893  1.33503869]\n",
      " [-1.55527039  0.94838926 -0.11491569]\n",
      " [-1.7288416  -1.14257532 -0.80245275]\n",
      " [ 0.1650919   0.80805607 -0.16937407]\n",
      " [-0.66852222  0.95306704  1.36907518]\n",
      " [-1.43955624  0.13445674 -1.4899898 ]\n",
      " [ 0.96328333 -1.00224213 -1.00667168]\n",
      " [ 0.75783169 -1.22209746  0.04165215]\n",
      " [-1.54818585 -0.36606498 -0.50293165]\n",
      " [ 1.53122723 -0.40816494 -0.90456221]\n",
      " [ 1.65520667 -1.01159767 -1.31300007]\n",
      " [-0.1690622  -0.63269805 -0.28509813]\n",
      " [-0.9625306  -1.36710843 -0.95902059]\n",
      " [-1.25181595  0.70046729  1.08316868]\n",
      " [-0.10884361  0.75192279  0.23225648]\n",
      " [ 0.44729272 -0.21169847 -0.35997841]\n",
      " [ 1.68944861 -1.32500847  0.29352216]\n",
      " [-0.14898934  1.35067775  1.56648681]\n",
      " [-1.67806907 -1.31097515  0.25948567]\n",
      " [ 0.21114141 -0.81045343 -1.10878114]\n",
      " [ 1.54539631  1.20098901  1.10359057]\n",
      " [-1.26834654  0.23268998  0.22544919]\n",
      " [ 0.81805028  0.70046729  0.68834542]\n",
      " [ 0.37880884  1.33664443  1.55287221]\n",
      " [-0.00847931 -0.27250952 -1.5036044 ]\n",
      " [ 0.82395406 -1.25951965  1.74347655]\n",
      " [-0.6472686  -1.06305318 -1.4967971 ]\n",
      " [ 1.16046967 -0.33799834  0.25267838]\n",
      " [-0.853901    0.20462334  1.593716  ]\n",
      " [-0.34853719  0.86886712 -1.02028627]\n",
      " [-0.44417847  0.39641204 -0.40762949]\n",
      " [-1.56589719 -0.39880939  0.96744462]\n",
      " [-0.83028586 -0.97885326 -1.59209927]\n",
      " [ 1.15574665 -0.45962044  0.4637046 ]\n",
      " [-0.62955725 -0.00587645 -1.4899898 ]\n",
      " [ 0.82631557  0.36366762  0.66792353]\n",
      " [ 1.57963825 -1.10983091 -0.87052572]\n",
      " [ 1.09434731  0.6630451   1.74347655]\n",
      " [-0.94363849  0.49932304 -0.50293165]\n",
      " [-0.18086976  0.73788947  1.24654382]\n",
      " [-0.88814294  0.11106788 -0.21021786]\n",
      " [-0.40757502 -0.3286428  -1.06793735]\n",
      " [-0.89050445  1.05597804  0.79045489]\n",
      " [-1.32856513 -0.85255339  1.15124166]\n",
      " [ 0.19224931 -1.24080855  1.26696572]\n",
      " [-1.46080986 -0.50639818  0.65430893]\n",
      " [-0.35444098 -0.7449646   0.34798054]\n",
      " [ 1.32695635 -0.49704263 -1.35384385]\n",
      " [ 0.99162149  2.55754321 -1.36065115]\n",
      " [ 1.05420158  0.31688989 -1.31300007]\n",
      " [ 1.59971111 -1.23613078 -0.6458849 ]\n",
      " [ 0.84874995 -0.79642011 -1.36065115]\n",
      " [-1.31085378 -1.13789755  1.20570004]\n",
      " [ 0.91487231  0.08767901  0.97425192]\n",
      " [ 0.71178219  0.35431208  1.78432033]\n",
      " [-0.91057731 -0.80577565 -0.43485868]\n",
      " [-0.73464458  2.02427708  0.14376162]\n",
      " [ 0.57363367  0.40108981  0.49093379]\n",
      " [-0.47015512  1.54714422  1.17166355]\n",
      " [ 1.37418661 -1.17531973  1.38949707]\n",
      " [ 1.02586343 -0.3099317  -1.24492709]\n",
      " [ 0.58189897 -0.41752049 -1.41510953]\n",
      " [ 0.44138894 -0.571887   -0.42124408]\n",
      " [-0.13245875 -0.93207553 -0.60504112]\n",
      " [-1.57416249  0.06896792 -1.31300007]\n",
      " [-0.87515461 -0.71689797 -1.53764089]\n",
      " [ 1.05538234 -0.54382036  1.23292923]\n",
      " [-1.54582433 -0.61398696 -0.22383245]]\n",
      "Did not converge after 1000 iterations . Try increasing max_iter.\n",
      "[ 362.1676339   260.29110415  425.08578765 1397.85991502  799.26257951\n",
      "  277.96333471  129.39210013 1118.21514557  176.11450663  950.80028679\n",
      " 1269.13921433  429.17595479  730.93376433  902.99561212  404.75796211\n",
      "  593.05447452 1255.58176104   82.76288145  432.46285367 1024.84332896\n",
      " 1387.91317215  655.63062954  845.90043329  641.64362402  260.2497374\n",
      "  630.753523    783.27545161 1019.7527663  1036.47481699  168.3208966\n",
      "  374.99574755  996.03264407 1311.48107334 1174.697439     97.6919948\n",
      "  118.43752694  302.73610555  850.62609726  396.55191165  144.80373864]\n"
     ]
    }
   ],
   "execution_count": 12
  },
  {
   "metadata": {
    "ExecuteTime": {
     "end_time": "2024-07-18T23:42:36.265971Z",
     "start_time": "2024-07-18T23:42:36.263367Z"
    }
   },
   "cell_type": "code",
   "source": "best_fit = linear_reg.w_arr * X + linear_reg.b",
   "outputs": [],
   "execution_count": 13
  },
  {
   "metadata": {
    "ExecuteTime": {
     "end_time": "2024-07-18T23:42:37.620541Z",
     "start_time": "2024-07-18T23:42:36.268421Z"
    }
   },
   "cell_type": "code",
   "source": [
    "plt.scatter(X, y)\n",
    "plt.plot(X, best_fit, color='red')"
   ],
   "outputs": [
    {
     "ename": "ValueError",
     "evalue": "x and y must be the same size",
     "output_type": "error",
     "traceback": [
      "\u001B[0;31m---------------------------------------------------------------------------\u001B[0m",
      "\u001B[0;31mValueError\u001B[0m                                Traceback (most recent call last)",
      "Cell \u001B[0;32mIn[14], line 1\u001B[0m\n\u001B[0;32m----> 1\u001B[0m \u001B[43mplt\u001B[49m\u001B[38;5;241;43m.\u001B[39;49m\u001B[43mscatter\u001B[49m\u001B[43m(\u001B[49m\u001B[43mX\u001B[49m\u001B[43m,\u001B[49m\u001B[43m \u001B[49m\u001B[43my\u001B[49m\u001B[43m)\u001B[49m\n\u001B[1;32m      2\u001B[0m plt\u001B[38;5;241m.\u001B[39mplot(X, best_fit, color\u001B[38;5;241m=\u001B[39m\u001B[38;5;124m'\u001B[39m\u001B[38;5;124mred\u001B[39m\u001B[38;5;124m'\u001B[39m)\n",
      "File \u001B[0;32m~/.local/lib/python3.10/site-packages/matplotlib/pyplot.py:3903\u001B[0m, in \u001B[0;36mscatter\u001B[0;34m(x, y, s, c, marker, cmap, norm, vmin, vmax, alpha, linewidths, edgecolors, plotnonfinite, data, **kwargs)\u001B[0m\n\u001B[1;32m   3884\u001B[0m \u001B[38;5;129m@_copy_docstring_and_deprecators\u001B[39m(Axes\u001B[38;5;241m.\u001B[39mscatter)\n\u001B[1;32m   3885\u001B[0m \u001B[38;5;28;01mdef\u001B[39;00m \u001B[38;5;21mscatter\u001B[39m(\n\u001B[1;32m   3886\u001B[0m     x: \u001B[38;5;28mfloat\u001B[39m \u001B[38;5;241m|\u001B[39m ArrayLike,\n\u001B[0;32m   (...)\u001B[0m\n\u001B[1;32m   3901\u001B[0m     \u001B[38;5;241m*\u001B[39m\u001B[38;5;241m*\u001B[39mkwargs,\n\u001B[1;32m   3902\u001B[0m ) \u001B[38;5;241m-\u001B[39m\u001B[38;5;241m>\u001B[39m PathCollection:\n\u001B[0;32m-> 3903\u001B[0m     __ret \u001B[38;5;241m=\u001B[39m \u001B[43mgca\u001B[49m\u001B[43m(\u001B[49m\u001B[43m)\u001B[49m\u001B[38;5;241;43m.\u001B[39;49m\u001B[43mscatter\u001B[49m\u001B[43m(\u001B[49m\n\u001B[1;32m   3904\u001B[0m \u001B[43m        \u001B[49m\u001B[43mx\u001B[49m\u001B[43m,\u001B[49m\n\u001B[1;32m   3905\u001B[0m \u001B[43m        \u001B[49m\u001B[43my\u001B[49m\u001B[43m,\u001B[49m\n\u001B[1;32m   3906\u001B[0m \u001B[43m        \u001B[49m\u001B[43ms\u001B[49m\u001B[38;5;241;43m=\u001B[39;49m\u001B[43ms\u001B[49m\u001B[43m,\u001B[49m\n\u001B[1;32m   3907\u001B[0m \u001B[43m        \u001B[49m\u001B[43mc\u001B[49m\u001B[38;5;241;43m=\u001B[39;49m\u001B[43mc\u001B[49m\u001B[43m,\u001B[49m\n\u001B[1;32m   3908\u001B[0m \u001B[43m        \u001B[49m\u001B[43mmarker\u001B[49m\u001B[38;5;241;43m=\u001B[39;49m\u001B[43mmarker\u001B[49m\u001B[43m,\u001B[49m\n\u001B[1;32m   3909\u001B[0m \u001B[43m        \u001B[49m\u001B[43mcmap\u001B[49m\u001B[38;5;241;43m=\u001B[39;49m\u001B[43mcmap\u001B[49m\u001B[43m,\u001B[49m\n\u001B[1;32m   3910\u001B[0m \u001B[43m        \u001B[49m\u001B[43mnorm\u001B[49m\u001B[38;5;241;43m=\u001B[39;49m\u001B[43mnorm\u001B[49m\u001B[43m,\u001B[49m\n\u001B[1;32m   3911\u001B[0m \u001B[43m        \u001B[49m\u001B[43mvmin\u001B[49m\u001B[38;5;241;43m=\u001B[39;49m\u001B[43mvmin\u001B[49m\u001B[43m,\u001B[49m\n\u001B[1;32m   3912\u001B[0m \u001B[43m        \u001B[49m\u001B[43mvmax\u001B[49m\u001B[38;5;241;43m=\u001B[39;49m\u001B[43mvmax\u001B[49m\u001B[43m,\u001B[49m\n\u001B[1;32m   3913\u001B[0m \u001B[43m        \u001B[49m\u001B[43malpha\u001B[49m\u001B[38;5;241;43m=\u001B[39;49m\u001B[43malpha\u001B[49m\u001B[43m,\u001B[49m\n\u001B[1;32m   3914\u001B[0m \u001B[43m        \u001B[49m\u001B[43mlinewidths\u001B[49m\u001B[38;5;241;43m=\u001B[39;49m\u001B[43mlinewidths\u001B[49m\u001B[43m,\u001B[49m\n\u001B[1;32m   3915\u001B[0m \u001B[43m        \u001B[49m\u001B[43medgecolors\u001B[49m\u001B[38;5;241;43m=\u001B[39;49m\u001B[43medgecolors\u001B[49m\u001B[43m,\u001B[49m\n\u001B[1;32m   3916\u001B[0m \u001B[43m        \u001B[49m\u001B[43mplotnonfinite\u001B[49m\u001B[38;5;241;43m=\u001B[39;49m\u001B[43mplotnonfinite\u001B[49m\u001B[43m,\u001B[49m\n\u001B[1;32m   3917\u001B[0m \u001B[43m        \u001B[49m\u001B[38;5;241;43m*\u001B[39;49m\u001B[38;5;241;43m*\u001B[39;49m\u001B[43m(\u001B[49m\u001B[43m{\u001B[49m\u001B[38;5;124;43m\"\u001B[39;49m\u001B[38;5;124;43mdata\u001B[39;49m\u001B[38;5;124;43m\"\u001B[39;49m\u001B[43m:\u001B[49m\u001B[43m \u001B[49m\u001B[43mdata\u001B[49m\u001B[43m}\u001B[49m\u001B[43m \u001B[49m\u001B[38;5;28;43;01mif\u001B[39;49;00m\u001B[43m \u001B[49m\u001B[43mdata\u001B[49m\u001B[43m \u001B[49m\u001B[38;5;129;43;01mis\u001B[39;49;00m\u001B[43m \u001B[49m\u001B[38;5;129;43;01mnot\u001B[39;49;00m\u001B[43m \u001B[49m\u001B[38;5;28;43;01mNone\u001B[39;49;00m\u001B[43m \u001B[49m\u001B[38;5;28;43;01melse\u001B[39;49;00m\u001B[43m \u001B[49m\u001B[43m{\u001B[49m\u001B[43m}\u001B[49m\u001B[43m)\u001B[49m\u001B[43m,\u001B[49m\n\u001B[1;32m   3918\u001B[0m \u001B[43m        \u001B[49m\u001B[38;5;241;43m*\u001B[39;49m\u001B[38;5;241;43m*\u001B[39;49m\u001B[43mkwargs\u001B[49m\u001B[43m,\u001B[49m\n\u001B[1;32m   3919\u001B[0m \u001B[43m    \u001B[49m\u001B[43m)\u001B[49m\n\u001B[1;32m   3920\u001B[0m     sci(__ret)\n\u001B[1;32m   3921\u001B[0m     \u001B[38;5;28;01mreturn\u001B[39;00m __ret\n",
      "File \u001B[0;32m~/.local/lib/python3.10/site-packages/matplotlib/__init__.py:1473\u001B[0m, in \u001B[0;36m_preprocess_data.<locals>.inner\u001B[0;34m(ax, data, *args, **kwargs)\u001B[0m\n\u001B[1;32m   1470\u001B[0m \u001B[38;5;129m@functools\u001B[39m\u001B[38;5;241m.\u001B[39mwraps(func)\n\u001B[1;32m   1471\u001B[0m \u001B[38;5;28;01mdef\u001B[39;00m \u001B[38;5;21minner\u001B[39m(ax, \u001B[38;5;241m*\u001B[39margs, data\u001B[38;5;241m=\u001B[39m\u001B[38;5;28;01mNone\u001B[39;00m, \u001B[38;5;241m*\u001B[39m\u001B[38;5;241m*\u001B[39mkwargs):\n\u001B[1;32m   1472\u001B[0m     \u001B[38;5;28;01mif\u001B[39;00m data \u001B[38;5;129;01mis\u001B[39;00m \u001B[38;5;28;01mNone\u001B[39;00m:\n\u001B[0;32m-> 1473\u001B[0m         \u001B[38;5;28;01mreturn\u001B[39;00m \u001B[43mfunc\u001B[49m\u001B[43m(\u001B[49m\n\u001B[1;32m   1474\u001B[0m \u001B[43m            \u001B[49m\u001B[43max\u001B[49m\u001B[43m,\u001B[49m\n\u001B[1;32m   1475\u001B[0m \u001B[43m            \u001B[49m\u001B[38;5;241;43m*\u001B[39;49m\u001B[38;5;28;43mmap\u001B[39;49m\u001B[43m(\u001B[49m\u001B[43msanitize_sequence\u001B[49m\u001B[43m,\u001B[49m\u001B[43m \u001B[49m\u001B[43margs\u001B[49m\u001B[43m)\u001B[49m\u001B[43m,\u001B[49m\n\u001B[1;32m   1476\u001B[0m \u001B[43m            \u001B[49m\u001B[38;5;241;43m*\u001B[39;49m\u001B[38;5;241;43m*\u001B[39;49m\u001B[43m{\u001B[49m\u001B[43mk\u001B[49m\u001B[43m:\u001B[49m\u001B[43m \u001B[49m\u001B[43msanitize_sequence\u001B[49m\u001B[43m(\u001B[49m\u001B[43mv\u001B[49m\u001B[43m)\u001B[49m\u001B[43m \u001B[49m\u001B[38;5;28;43;01mfor\u001B[39;49;00m\u001B[43m \u001B[49m\u001B[43mk\u001B[49m\u001B[43m,\u001B[49m\u001B[43m \u001B[49m\u001B[43mv\u001B[49m\u001B[43m \u001B[49m\u001B[38;5;129;43;01min\u001B[39;49;00m\u001B[43m \u001B[49m\u001B[43mkwargs\u001B[49m\u001B[38;5;241;43m.\u001B[39;49m\u001B[43mitems\u001B[49m\u001B[43m(\u001B[49m\u001B[43m)\u001B[49m\u001B[43m}\u001B[49m\u001B[43m)\u001B[49m\n\u001B[1;32m   1478\u001B[0m     bound \u001B[38;5;241m=\u001B[39m new_sig\u001B[38;5;241m.\u001B[39mbind(ax, \u001B[38;5;241m*\u001B[39margs, \u001B[38;5;241m*\u001B[39m\u001B[38;5;241m*\u001B[39mkwargs)\n\u001B[1;32m   1479\u001B[0m     auto_label \u001B[38;5;241m=\u001B[39m (bound\u001B[38;5;241m.\u001B[39marguments\u001B[38;5;241m.\u001B[39mget(label_namer)\n\u001B[1;32m   1480\u001B[0m                   \u001B[38;5;129;01mor\u001B[39;00m bound\u001B[38;5;241m.\u001B[39mkwargs\u001B[38;5;241m.\u001B[39mget(label_namer))\n",
      "File \u001B[0;32m~/.local/lib/python3.10/site-packages/matplotlib/axes/_axes.py:4787\u001B[0m, in \u001B[0;36mAxes.scatter\u001B[0;34m(self, x, y, s, c, marker, cmap, norm, vmin, vmax, alpha, linewidths, edgecolors, plotnonfinite, **kwargs)\u001B[0m\n\u001B[1;32m   4785\u001B[0m y \u001B[38;5;241m=\u001B[39m np\u001B[38;5;241m.\u001B[39mma\u001B[38;5;241m.\u001B[39mravel(y)\n\u001B[1;32m   4786\u001B[0m \u001B[38;5;28;01mif\u001B[39;00m x\u001B[38;5;241m.\u001B[39msize \u001B[38;5;241m!=\u001B[39m y\u001B[38;5;241m.\u001B[39msize:\n\u001B[0;32m-> 4787\u001B[0m     \u001B[38;5;28;01mraise\u001B[39;00m \u001B[38;5;167;01mValueError\u001B[39;00m(\u001B[38;5;124m\"\u001B[39m\u001B[38;5;124mx and y must be the same size\u001B[39m\u001B[38;5;124m\"\u001B[39m)\n\u001B[1;32m   4789\u001B[0m \u001B[38;5;28;01mif\u001B[39;00m s \u001B[38;5;129;01mis\u001B[39;00m \u001B[38;5;28;01mNone\u001B[39;00m:\n\u001B[1;32m   4790\u001B[0m     s \u001B[38;5;241m=\u001B[39m (\u001B[38;5;241m20\u001B[39m \u001B[38;5;28;01mif\u001B[39;00m mpl\u001B[38;5;241m.\u001B[39mrcParams[\u001B[38;5;124m'\u001B[39m\u001B[38;5;124m_internal.classic_mode\u001B[39m\u001B[38;5;124m'\u001B[39m] \u001B[38;5;28;01melse\u001B[39;00m\n\u001B[1;32m   4791\u001B[0m          mpl\u001B[38;5;241m.\u001B[39mrcParams[\u001B[38;5;124m'\u001B[39m\u001B[38;5;124mlines.markersize\u001B[39m\u001B[38;5;124m'\u001B[39m] \u001B[38;5;241m*\u001B[39m\u001B[38;5;241m*\u001B[39m \u001B[38;5;241m2.0\u001B[39m)\n",
      "\u001B[0;31mValueError\u001B[0m: x and y must be the same size"
     ]
    },
    {
     "data": {
      "text/plain": [
       "<Figure size 640x480 with 1 Axes>"
      ],
      "image/png": "[encoded data removed]"
     },
     "metadata": {},
     "output_type": "display_data"
    }
   ],
   "execution_count": 14
  },
  {
   "metadata": {},
   "cell_type": "code",
   "source": [
    "MSE = mean_squared_error(y_test, predictions)\n",
    "r2 = r2_score(y_test, predictions)\n",
    "print('Mean Squared Error:', MSE)\n",
    "print('R-squared Score:', r2)"
   ],
   "outputs": [],
   "execution_count": null
  },
  {
   "cell_type": "code",
   "metadata": {},
   "source": "linear_reg.J_arr[-1]",
   "outputs": [],
   "execution_count": null
  },
  {
   "cell_type": "code",
   "metadata": {
    "ExecuteTime": {
     "end_time": "2024-07-18T23:42:58.769976Z",
     "start_time": "2024-07-18T23:42:58.690159Z"
    }
   },
   "source": [
    "from sklearn.linear_model import LinearRegression\n",
    "from sklearn.preprocessing import StandardScaler\n",
    "\n",
    "scaler = StandardScaler()\n",
    "X = scaler.fit_transform(X)\n",
    "X_train, X_test, y_train, y_test = train_test_split(X, y, test_size = 0.2, random_state=0)\n",
    "linreg = LinearRegression(fit_intercept=True)\n",
    "linreg.fit(X_train, y_train)\n",
    "predictions = linreg.predict(X_test)\n",
    "MSE = mean_squared_error(y_test, predictions)\n",
    "r2 = r2_score(y_test, predictions)\n",
    "print('Mean Squared Error:', MSE)\n",
    "print('R-squared Score:', r2)"
   ],
   "outputs": [
    {
     "name": "stdout",
     "output_type": "stream",
     "text": [
      "Mean Squared Error: 4.522552562041288\n",
      "R-squared Score: 0.8645053923967725\n"
     ]
    }
   ],
   "execution_count": 15
  },
  {
   "metadata": {
    "ExecuteTime": {
     "end_time": "2024-07-18T23:43:00.438159Z",
     "start_time": "2024-07-18T23:43:00.430252Z"
    }
   },
   "cell_type": "code",
   "source": "print(X)",
   "outputs": [
    {
     "name": "stdout",
     "output_type": "stream",
     "text": [
      "[[ 9.69852266e-01  1.77894547e+00  9.81522472e-01]\n",
      " [-1.19737623e+00  6.69578760e-01  1.08280781e+00]\n",
      " [-1.51615499e+00  1.78354865e+00  1.52846331e+00]\n",
      " [ 5.20496822e-02  1.28640506e+00  1.21785493e+00]\n",
      " [ 3.94182198e-01  1.28180188e+00 -8.41613655e-01]\n",
      " [-1.61540845e+00  2.04592999e+00  1.73103399e+00]\n",
      " [-1.04557682e+00 -3.24708413e-01  6.43904671e-01]\n",
      " [-3.13436589e-01 -8.72486994e-01 -2.47406325e-01]\n",
      " [-1.61657614e+00 -1.36042422e+00 -1.42906863e+00]\n",
      " [ 6.16042873e-01 -4.30581584e-01 -1.39530685e+00]\n",
      " [-9.45155670e-01 -2.92486143e-01 -1.17923146e+00]\n",
      " [ 7.90028350e-01 -1.22232878e+00  4.96973404e-02]\n",
      " [-1.43908760e+00  1.62704048e+00  7.99208859e-01]\n",
      " [-5.78501712e-01 -1.07502697e+00 -1.05768905e+00]\n",
      " [ 6.66253447e-01  7.11007392e-01  6.50657027e-01]\n",
      " [ 5.64664612e-01  1.02862691e+00  1.65000572e+00]\n",
      " [-9.25304978e-01  3.84117072e+00  9.00494200e-01]\n",
      " [ 1.56887609e+00  1.16211917e+00  1.10306488e+00]\n",
      " [-9.08957349e-01 -5.64073843e-01 -1.86635121e-01]\n",
      " [ 3.00679600e-03 -5.27248393e-01  4.29449843e-02]\n",
      " [ 8.33232798e-01  1.05164281e+00  2.99534513e-01]\n",
      " [ 1.05509347e+00 -3.24708413e-01 -1.22649795e+00]\n",
      " [-1.56286250e+00  8.76721921e-01 -4.97243498e-01]\n",
      " [ 9.48833887e-01 -2.00422516e-01 -4.29719938e-01]\n",
      " [-9.89527805e-01 -5.64073843e-01 -7.20071247e-01]\n",
      " [ 1.35285385e+00 -5.08835667e-01 -1.33453565e+00]\n",
      " [-4.83714657e-02 -8.26455181e-01  4.07572210e-01]\n",
      " [ 1.08662104e+00 -3.52327501e-01 -4.43224650e-01]\n",
      " [ 1.18820988e+00 -3.52327501e-01  2.59020377e-01]\n",
      " [-8.92609721e-01  4.71641962e-01 -4.90491142e-01]\n",
      " [ 1.70316018e+00  5.82118314e-01  3.40048650e-01]\n",
      " [-3.98677796e-01  3.70371972e-01 -3.95958157e-01]\n",
      " [-5.82004775e-01 -2.55016247e-02 -1.46958277e+00]\n",
      " [ 1.38438142e+00 -1.39264649e+00 -2.20396901e-01]\n",
      " [-5.99520091e-01 -1.06582061e+00 -1.47633512e+00]\n",
      " [ 1.67747105e+00 -1.01518562e+00 -1.29402151e+00]\n",
      " [ 1.39956136e+00 -1.17629696e+00  1.38666383e+00]\n",
      " [-8.44734522e-01  6.97197848e-01  1.76479577e+00]\n",
      " [-1.21372386e+00  2.09260624e-01  2.32010953e-01]\n",
      " [ 9.45330823e-01  6.65620024e-02  9.74770116e-01]\n",
      " [ 6.47570443e-01  4.81492770e-02 -6.50927121e-02]\n",
      " [ 3.49810063e-01  3.74975153e-01  6.84418807e-01]\n",
      " [ 1.71133400e+00 -1.32359877e+00  2.99534513e-01]\n",
      " [ 6.98948705e-01 -1.91216154e-01 -1.00367020e+00]\n",
      " [-1.42390765e+00  5.86721496e-01  1.64487393e-01]\n",
      " [ 3.27623995e-01  4.35460956e-02 -5.15880000e-02]\n",
      " [-6.69581357e-01  2.36879713e-01 -9.02384859e-01]\n",
      " [ 1.08428567e+00 -5.54867481e-01  1.23135965e+00]\n",
      " [ 9.35989321e-01  8.90531465e-01 -5.03995854e-01]\n",
      " [-9.35814168e-01  2.87514708e-01 -7.80842451e-01]\n",
      " [ 6.16042873e-01  1.86244718e-01 -1.36154507e+00]\n",
      " [-5.44638766e-01 -1.24074150e+00 -9.22641928e-01]\n",
      " [ 8.09879042e-01  4.16403786e-01  1.24486436e+00]\n",
      " [ 4.15200577e-01  1.29561142e+00  1.54872038e+00]\n",
      " [ 1.35051848e+00 -6.74550196e-01  3.73810430e-01]\n",
      " [ 6.05533683e-01  1.35545278e+00  1.76479577e+00]\n",
      " [-1.63175608e+00  4.99261050e-01  3.26543937e-01]\n",
      " [-1.26606546e-01 -6.42327927e-01 -2.74415749e-01]\n",
      " [ 7.44488528e-01  3.28943340e-01  1.77830048e+00]\n",
      " [ 7.43320840e-01 -9.78360166e-01  4.21076922e-01]\n",
      " [-1.09228433e+00 -4.21375221e-01 -1.43582099e+00]\n",
      " [ 1.33417085e+00  1.11148417e+00  1.31238792e+00]\n",
      " [ 1.07727954e+00 -1.49787521e-01 -5.24252922e-01]\n",
      " [-5.17781948e-01 -1.01978880e+00  4.27829278e-01]\n",
      " [-1.86158622e-01 -7.61366196e-02  1.31914027e+00]\n",
      " [-9.11292725e-01 -1.36502740e+00 -9.42898996e-01]\n",
      " [-1.34917564e+00 -1.30518604e+00  9.02114765e-02]\n",
      " [-9.04082253e-02 -9.36931533e-01 -5.91776482e-01]\n",
      " [ 1.05509347e+00 -9.00106083e-01  2.86029801e-01]\n",
      " [ 8.14549794e-01 -1.54390703e-01  1.39341619e+00]\n",
      " [ 6.07869059e-01  3.74975153e-01  4.95352838e-01]\n",
      " [-4.34876116e-01  5.27524584e-02 -6.05281194e-01]\n",
      " [-1.40405696e+00 -5.18042030e-01  6.57409383e-01]\n",
      " [-2.06009314e-01  3.43397329e-02 -1.18598381e+00]\n",
      " [ 7.74848409e-01 -8.03439274e-01  9.02114765e-02]\n",
      " [-1.51965805e+00  2.70878810e+00  1.37991148e+00]\n",
      " [-1.39588315e+00 -4.53597491e-01 -1.46283041e+00]\n",
      " [-3.09933525e-01 -7.52804279e-01  3.53553362e-01]\n",
      " [-1.65394214e+00 -9.73756984e-01  4.48086346e-01]\n",
      " [-3.62479475e-01 -3.43121138e-01 -1.05093669e+00]\n",
      " [-8.24883830e-01 -3.79946589e-01  2.32010953e-01]\n",
      " [ 1.08311798e+00  2.92117889e-01 -1.29402151e+00]\n",
      " [-8.37728396e-01  8.95779092e-02 -2.00139833e-01]\n",
      " [-9.18298852e-01  2.32276531e-01  1.43393033e+00]\n",
      " [ 7.76016097e-01  1.49419267e-01  1.33264499e+00]\n",
      " [ 5.38975481e-01  1.61783412e+00 -3.28434597e-01]\n",
      " [-8.26051518e-01 -6.69947015e-01  2.86029801e-01]\n",
      " [-4.24366926e-01  1.50275459e+00  1.17058844e+00]\n",
      " [-6.85928986e-01  1.97227908e+00  1.50982681e-01]\n",
      " [-4.34876116e-01  9.59579186e-01  1.65675807e+00]\n",
      " [-1.48792614e-01 -9.78360166e-01 -1.24000266e+00]\n",
      " [-1.38303858e+00  1.12593816e-01 -1.46958277e+00]\n",
      " [ 8.25058983e-01  1.30942097e+00  6.91171163e-01]\n",
      " [ 1.21273132e+00  1.92164409e+00  8.93741844e-01]\n",
      " [-4.62900623e-01 -9.04709264e-01 -6.25538262e-01]\n",
      " [ 1.89836839e-01  1.02862691e+00  5.62876398e-01]\n",
      " [ 5.90353742e-01 -1.13486833e+00 -1.33453565e+00]\n",
      " [ 4.42057396e-01 -3.93756133e-01 -1.52873340e-01]\n",
      " [ 1.66579418e+00  9.50372823e-01  1.28537849e+00]\n",
      " [-1.38283424e-01  7.06404211e-01  1.24486436e+00]\n",
      " [ 8.79940308e-01  8.85928284e-01 -1.28051680e+00]\n",
      " [ 1.74402926e+00  3.23815396e+00  8.80237132e-01]\n",
      " [ 1.55486384e+00 -4.21375221e-01 -8.88880147e-01]\n",
      " [ 4.77088029e-01 -5.82486569e-01 -4.09462869e-01]\n",
      " [ 1.06443498e+00 -1.16248742e+00  7.45190011e-01]\n",
      " [-1.06755854e-01  1.30942097e+00  1.56222509e+00]\n",
      " [-1.42507534e+00 -3.93111688e-02 -8.28108943e-01]\n",
      " [-6.61407543e-01 -3.38517957e-01 -1.55061104e+00]\n",
      " [-1.56403019e+00 -2.28041604e-01 -1.54385868e+00]\n",
      " [ 1.26527727e+00 -1.15328106e+00  2.45515665e-01]\n",
      " [ 9.19641692e-01  1.19434143e+00 -1.01717491e+00]\n",
      " [ 1.10530405e+00 -3.38517957e-01  9.95027184e-01]\n",
      " [ 3.34630122e-01 -1.29597968e+00 -5.31005278e-01]\n",
      " [ 7.30476274e-01 -9.13915627e-01 -1.79882765e-01]\n",
      " [-8.03865450e-01  1.81641536e-01  1.58923451e+00]\n",
      " [-8.40063771e-01  1.01942054e+00  7.92456503e-01]\n",
      " [-9.15759131e-02 -2.28041604e-01 -6.05281194e-01]\n",
      " [-8.24883830e-01 -7.25185191e-01 -1.51684926e+00]\n",
      " [-2.49213762e-01  2.23926360e+00  9.20751268e-01]\n",
      " [-1.49046586e+00 -3.79946589e-01 -4.90491142e-01]\n",
      " [-6.70544700e-02  7.20213755e-01  2.38763309e-01]\n",
      " [-1.49747198e+00  9.13547372e-01 -1.05606848e-01]\n",
      " [ 8.98623313e-01 -6.88359740e-01 -1.40881156e+00]\n",
      " [-2.79573643e-01 -8.35661544e-01  7.65447079e-01]\n",
      " [ 9.62846140e-01  2.00910454e+00  6.10142891e-01]\n",
      " [-6.98773552e-01 -2.14232060e-01 -7.74090095e-01]\n",
      " [-1.62591764e+00  9.22753735e-01  1.05579839e+00]\n",
      " [-7.80511695e-01 -9.82963347e-01 -1.57086811e+00]\n",
      " [ 8.55418865e-01 -1.25915423e+00  1.73778635e+00]\n",
      " [-1.02105537e+00  5.77515133e-01 -7.60585383e-01]\n",
      " [-1.70882347e+00 -1.00597925e+00  1.10306488e+00]\n",
      " [ 1.37971067e+00  5.72911952e-01 -1.37504978e+00]\n",
      " [-1.61891151e+00 -1.30978922e+00  2.65772733e-01]\n",
      " [ 8.49580427e-01  6.69578760e-01  6.91171163e-01]\n",
      " [-1.28612050e+00  1.61323094e+00  1.03554132e+00]\n",
      " [-1.15300409e+00 -1.01518562e+00  1.60273923e+00]\n",
      " [-1.41806922e+00 -9.78360166e-01  1.06255074e+00]\n",
      " [ 1.47896413e+00  1.34164324e+00  3.80562786e-01]\n",
      " [-1.21489154e+00 -4.62803854e-01  1.77992105e-01]\n",
      " [ 4.42057396e-01 -1.32820195e+00  1.39341619e+00]\n",
      " [-8.59914463e-01 -8.12645637e-01 -4.22967582e-01]\n",
      " [ 5.44813920e-01  2.07354907e+00  8.19465927e-01]\n",
      " [ 8.57754241e-01  3.38149702e-01  6.70914095e-01]\n",
      " [-4.95595880e-01  1.77038355e-01 -1.18598381e+00]\n",
      " [-5.93681653e-01  3.84181516e-01 -5.71519414e-01]\n",
      " [-7.87313476e-02 -9.92169710e-01 -1.44257334e+00]\n",
      " [ 1.08662104e+00 -1.00597925e+00 -1.07794612e+00]\n",
      " [ 1.12281936e+00  6.32753309e-01  1.73778635e+00]\n",
      " [-1.27327593e+00 -8.58677450e-01  1.15033137e+00]\n",
      " [-1.19504085e+00 -4.58200672e-01  1.71239749e-01]\n",
      " [ 1.56070228e+00  2.96721070e-01 -6.32290618e-01]\n",
      " [-3.04095087e-01  8.35293289e-01 -1.00367020e+00]\n",
      " [ 5.90353742e-01 -7.52804279e-01  2.43084817e-03]\n",
      " [ 2.83251860e-01  3.28943340e-01  1.10981724e+00]\n",
      " [ 4.75920341e-01 -9.69153803e-01 -1.46120984e-01]\n",
      " [-1.66912209e+00 -1.14407469e+00 -7.87594807e-01]\n",
      " [-6.20538471e-01  9.18150553e-01  1.36640677e+00]\n",
      " [ 3.21989902e-02 -2.87882962e-01 -1.48308748e+00]\n",
      " [-1.58037782e+00  6.74181942e-01  9.20751268e-01]\n",
      " [-1.79152496e-01  1.86244718e-01 -3.28434597e-01]\n",
      " [ 2.97264113e-01  6.72064478e-03 -3.48691665e-01]\n",
      " [-7.16288868e-01  8.62912377e-01  8.46475352e-01]\n",
      " [ 4.82926468e-01 -2.28041604e-01 -3.48691665e-01]\n",
      " [ 1.92172214e-01 -1.06582061e+00  9.13998912e-01]\n",
      " [-3.48467222e-01 -1.15788424e+00 -5.78271770e-01]\n",
      " [ 1.02123053e+00  2.49704176e+00 -1.34128800e+00]\n",
      " [-1.50798117e+00 -4.12168859e-01  9.68017760e-01]\n",
      " [ 6.97781017e-01 -5.13438849e-01 -1.21974559e+00]\n",
      " [ 7.98202165e-01  1.24497643e+00  2.26879163e-02]\n",
      " [ 1.60273904e+00 -1.11185242e+00 -8.55118367e-01]\n",
      " [-1.13315340e+00 -5.59470662e-01 -7.87594807e-01]\n",
      " [ 2.03849092e-01  7.75451931e-01 -1.59625696e-01]\n",
      " [-1.48813048e+00 -6.23915201e-01 -2.13644545e-01]\n",
      " [ 2.49388915e-01 -8.17248818e-01 -1.09145083e+00]\n",
      " [ 8.79940308e-01 -8.03439274e-01 -1.34128800e+00]\n",
      " [ 1.51633014e+00  5.17673775e-01  1.73103399e+00]\n",
      " [ 1.18353913e+00 -4.72010216e-01  4.68343414e-01]\n",
      " [ 2.70407294e-01  2.13863806e-01 -1.04418434e+00]\n",
      " [ 1.51399477e+00 -3.15502050e-01 -1.41556392e+00]\n",
      " [ 2.16693657e-01 -5.96296113e-01 -8.95632503e-01]\n",
      " [ 1.11601758e-01 -1.02439198e+00 -1.39530685e+00]\n",
      " [ 8.34400486e-01 -1.45184340e-01 -1.20624088e+00]\n",
      " [-1.06075676e+00 -3.93111688e-02 -1.18598381e+00]\n",
      " [ 1.64127273e+00  1.89862818e+00  1.33264499e+00]\n",
      " [ 1.24659427e+00 -2.55016247e-02 -1.32616272e-01]\n",
      " [ 6.76762637e-01 -5.04232486e-01  1.47444446e+00]\n",
      " [-8.80728498e-02 -1.82009791e-01 -1.42906863e+00]\n",
      " [ 5.14454038e-01 -5.68677025e-01  3.67058074e-01]\n",
      " [ 1.62258973e+00 -1.23613832e+00 -6.32290618e-01]\n",
      " [-1.49863967e+00 -3.29311594e-01 -7.53833027e-01]\n",
      " [-1.25576062e+00 -1.13947151e+00  1.20435022e+00]\n",
      " [-8.35393020e-01 -1.13026515e+00 -8.41613655e-01]\n",
      " [-1.51615499e+00  4.81492770e-02 -1.29402151e+00]\n",
      " [ 2.30705910e-01 -1.24074150e+00  1.26512143e+00]\n",
      " [ 3.10313024e-02 -1.13026515e+00  8.32970639e-01]\n",
      " [-1.27094056e+00 -7.71217005e-01 -1.32103093e+00]\n",
      " [-6.17035408e-01 -1.03359834e+00 -1.24000266e+00]\n",
      " [ 3.49810063e-01 -1.11185242e+00 -9.42898996e-01]\n",
      " [ 1.59456522e+00  1.64085003e+00  1.26512143e+00]\n",
      " [ 9.93206022e-01 -1.00597925e+00 -9.90165488e-01]]\n"
     ]
    }
   ],
   "execution_count": 16
  },
  {
   "metadata": {},
   "cell_type": "code",
   "source": "predictions",
   "outputs": [],
   "execution_count": null
  },
  {
   "cell_type": "code",
   "metadata": {},
   "source": [
    "def transpose(X):    # sourcery skip: use-itertools-product\n",
    "    \"\"\"\n",
    "    Transposes a matrix\n",
    "\n",
    "    Args:\n",
    "        X ([array]): a nxm array\n",
    "    \"\"\"\n",
    "    n = X.shape[0]\n",
    "    m = X.shape[1]\n",
    "    X_transpose = np.zeros(shape=(m,n))\n",
    "    for m in range(X.shape[1]):\n",
    "        for n in range(X.shape[0]):\n",
    "            X_transpose[m][n] = X[n,m]\n",
    "    return X_transpose"
   ],
   "outputs": [],
   "execution_count": null
  },
  {
   "cell_type": "code",
   "metadata": {},
   "source": [
    "X_tranpose = transpose(X)\n",
    "print(X_tranpose.shape)"
   ],
   "outputs": [],
   "execution_count": null
  },
  {
   "cell_type": "code",
   "metadata": {},
   "source": [],
   "outputs": [],
   "execution_count": null
  }
 ],
 "metadata": {
  "kernelspec": {
   "display_name": "Python 3",
   "language": "python",
   "name": "python3"
  },
  "language_info": {
   "codemirror_mode": {
    "name": "ipython",
    "version": 3
   },
   "file_extension": ".py",
   "mimetype": "text/x-python",
   "name": "python",
   "nbconvert_exporter": "python",
   "pygments_lexer": "ipython3",
   "version": "3.10.12"
  }
 },
 "nbformat": 4,
 "nbformat_minor": 2
}
