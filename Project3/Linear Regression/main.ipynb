{
 "cells": [
  {
   "cell_type": "code",
   "execution_count": 1,
   "metadata": {},
   "outputs": [],
   "source": [
    "import linreg\n",
    "import multiple_gradient\n",
    "import pandas\n",
    "import numpy as np\n",
    "import matplotlib.pyplot as plt\n",
    "from sklearn.model_selection import train_test_split\n",
    "from sklearn.metrics import mean_squared_error, r2_score, accuracy_score\n",
    "#from sklearn.linear_model import LinearRegression"
   ]
  },
  {
   "cell_type": "code",
   "execution_count": 2,
   "metadata": {},
   "outputs": [
    {
     "name": "stderr",
     "output_type": "stream",
     "text": [
      "/home/miniloda/.local/lib/python3.10/site-packages/numpy/core/fromnumeric.py:86: FutureWarning: The behavior of DataFrame.sum with axis=None is deprecated, in a future version this will reduce over both axes and return a scalar. To retain the old behavior, pass axis=0 (or do not pass axis)\n",
      "  return reduction(axis=axis, out=out, **passkwargs)\n"
     ]
    },
    {
     "data": {
      "text/plain": [
       "TV           0\n",
       "Radio        0\n",
       "Newspaper    0\n",
       "Sales        0\n",
       "dtype: int64"
      ]
     },
     "execution_count": 2,
     "metadata": {},
     "output_type": "execute_result"
    }
   ],
   "source": [
    "df = pandas.read_csv('advertising.csv')\n",
    "linreg = linreg.LinearRegression()\n",
    "np.sum(df.isnull())"
   ]
  },
  {
   "cell_type": "code",
   "execution_count": 3,
   "metadata": {},
   "outputs": [
    {
     "data": {
      "text/plain": [
       "array([[ 36.9,  38.6],\n",
       "       [ 31.5,  24.6],\n",
       "       [142.9,  29.3],\n",
       "       [209.6,  20.6],\n",
       "       [215.4,  23.6],\n",
       "       [102.7,  29.6],\n",
       "       [  8.6,   2.1],\n",
       "       [ 16.9,  43.7],\n",
       "       [125.7,  36.9],\n",
       "       [104.6,   5.7],\n",
       "       [109.8,  14.3],\n",
       "       [229.5,  32.3],\n",
       "       [253.8,  21.3],\n",
       "       [184.9,  21. ],\n",
       "       [ 44.7,  25.8],\n",
       "       [ 62.3,  12.6],\n",
       "       [292.9,  28.3],\n",
       "       [172.5,  18.1],\n",
       "       [202.5,  22.3],\n",
       "       [  7.3,  28.1],\n",
       "       [265.2,   2.9],\n",
       "       [197.6,   3.5],\n",
       "       [218.5,   5.4],\n",
       "       [147.3,  23.9],\n",
       "       [171.3,  39.7],\n",
       "       [217.7,  33.5],\n",
       "       [262.7,  28.8],\n",
       "       [163.5,  36.8],\n",
       "       [100.4,   9.6],\n",
       "       [ 76.3,  27.5],\n",
       "       [184.9,  43.9],\n",
       "       [134.3,   4.9],\n",
       "       [273.7,  28.9],\n",
       "       [296.4,  36.3],\n",
       "       [ 96.2,  14.8],\n",
       "       [109.8,  47.8],\n",
       "       [255.4,  26.9],\n",
       "       [204.1,  32.9],\n",
       "       [240.1,  16.7],\n",
       "       [193.7,  35.4],\n",
       "       [191.1,  28.7],\n",
       "       [ 89.7,   9.9],\n",
       "       [ 43. ,  25.9],\n",
       "       [ 38.2,   3.7],\n",
       "       [ 13.1,   0.4],\n",
       "       [239.3,  15.5],\n",
       "       [ 17.2,  45.9],\n",
       "       [210.7,  29.5],\n",
       "       [ 25.6,  39. ],\n",
       "       [177. ,   9.3],\n",
       "       [206.9,   8.4],\n",
       "       [ 66.1,   5.8],\n",
       "       [149.7,  35.6],\n",
       "       [129.4,   5.7],\n",
       "       [ 94.2,   4.9],\n",
       "       [276.7,   2.3],\n",
       "       [276.9,  48.9],\n",
       "       [  7.8,  38.9],\n",
       "       [250.9,  36.5],\n",
       "       [175.7,  15.4],\n",
       "       [ 11.7,  36.9],\n",
       "       [ 75.5,  10.8],\n",
       "       [199.8,   3.1],\n",
       "       [230.1,  37.8],\n",
       "       [107.4,  14. ],\n",
       "       [225.8,   8.2],\n",
       "       [163.3,  31.6],\n",
       "       [131.1,  42.8],\n",
       "       [206.8,   5.2],\n",
       "       [177. ,  33.4],\n",
       "       [216.8,  43.9],\n",
       "       [ 66.9,  11.7],\n",
       "       [227.2,  15.8],\n",
       "       [193.2,  18.4],\n",
       "       [ 97.5,   7.6],\n",
       "       [ 85.7,  35.8],\n",
       "       [228.3,  16.9],\n",
       "       [139.5,   2.1],\n",
       "       [ 48.3,  47. ],\n",
       "       [218.4,  27.7],\n",
       "       [195.4,  47.7],\n",
       "       [  5.4,  29.9],\n",
       "       [238.2,  34.3],\n",
       "       [216.4,  41.7],\n",
       "       [222.4,   4.3],\n",
       "       [ 27.5,   1.6],\n",
       "       [151.5,  41.3],\n",
       "       [139.2,  14.3],\n",
       "       [117.2,  14.7],\n",
       "       [283.6,  42. ],\n",
       "       [ 57.5,  32.8],\n",
       "       [237.4,  27.5],\n",
       "       [213.5,  43. ],\n",
       "       [ 18.8,  21.7],\n",
       "       [  4.1,  11.6],\n",
       "       [164.5,  20.9],\n",
       "       [ 93.9,  43.5],\n",
       "       [ 28.6,   1.5],\n",
       "       [232.1,   8.6],\n",
       "       [214.7,  24. ],\n",
       "       [ 19.4,  16. ],\n",
       "       [280.2,  10.1],\n",
       "       [290.7,   4.1],\n",
       "       [136.2,  19.2],\n",
       "       [ 69. ,   9.3],\n",
       "       [ 44.5,  39.3],\n",
       "       [141.3,  26.8],\n",
       "       [188.4,  18.1],\n",
       "       [293.6,  27.7],\n",
       "       [137.9,  46.4],\n",
       "       [  8.4,  27.2],\n",
       "       [168.4,   7.1],\n",
       "       [281.4,  39.6],\n",
       "       [ 43.1,  26.7],\n",
       "       [219.8,  33.5],\n",
       "       [182.6,  46.2],\n",
       "       [149.8,   1.3],\n",
       "       [220.3,  49. ],\n",
       "       [ 95.7,   1.4],\n",
       "       [248.8,  27.1],\n",
       "       [ 78.2,  46.8],\n",
       "       [121. ,   8.4],\n",
       "       [112.9,  17.4],\n",
       "       [ 17.9,  37.6],\n",
       "       [ 80.2,   0. ],\n",
       "       [248.4,  30.2],\n",
       "       [ 97.2,   1.5],\n",
       "       [220.5,  33.2],\n",
       "       [284.3,  10.6],\n",
       "       [243.2,  49. ],\n",
       "       [ 70.6,  16. ],\n",
       "       [135.2,  41.7],\n",
       "       [ 75.3,  20.3],\n",
       "       [116. ,   7.7],\n",
       "       [ 75.1,  35. ],\n",
       "       [ 38. ,  40.3],\n",
       "       [166.8,  42. ],\n",
       "       [ 26.8,  33. ],\n",
       "       [120.5,  28.5],\n",
       "       [262.9,   3.5],\n",
       "       [234.5,   3.4],\n",
       "       [239.8,   4.1],\n",
       "       [286. ,  13.9],\n",
       "       [222.4,   3.4],\n",
       "       [ 39.5,  41.1],\n",
       "       [228. ,  37.7],\n",
       "       [210.8,  49.6],\n",
       "       [ 73.4,  17. ],\n",
       "       [ 88.3,  25.5],\n",
       "       [199.1,  30.6],\n",
       "       [110.7,  40.6],\n",
       "       [266.9,  43.8],\n",
       "       [237.4,   5.1],\n",
       "       [199.8,   2.6],\n",
       "       [187.9,  17.2],\n",
       "       [139.3,  14.5],\n",
       "       [ 17.2,   4.1],\n",
       "       [ 76.4,   0.8],\n",
       "       [239.9,  41.5],\n",
       "       [ 19.6,  20.1]])"
      ]
     },
     "execution_count": 3,
     "metadata": {},
     "output_type": "execute_result"
    }
   ],
   "source": [
    "X = df[['TV', 'Radio']].values\n",
    "y = df['Sales'].values\n",
    "X_train, X_test, y_train, y_test = train_test_split(X, y, test_size = 0.2, random_state=0)\n",
    "X_train"
   ]
  },
  {
   "cell_type": "code",
   "execution_count": 4,
   "metadata": {},
   "outputs": [
    {
     "name": "stdout",
     "output_type": "stream",
     "text": [
      "(3, 160)\n",
      "2\n",
      "(160, 3)\n",
      "2\n",
      "[[1.60000000e+02 2.40829000e+04 3.74210000e+03]\n",
      " [2.40829000e+04 4.77253599e+06 5.72021790e+05]\n",
      " [3.74210000e+03 5.72021790e+05 1.22048630e+05]]\n"
     ]
    }
   ],
   "source": [
    "linreg.fit(X_train, y_train)"
   ]
  },
  {
   "cell_type": "code",
   "execution_count": 5,
   "metadata": {},
   "outputs": [
    {
     "data": {
      "text/plain": [
       "array([230.1,  44.5,  17.2, 151.5, 180.8,   8.7,  57.5, 120.2,   8.6,\n",
       "       199.8,  66.1, 214.7,  23.8,  97.5, 204.1, 195.4,  67.8, 281.4,\n",
       "        69.2, 147.3, 218.4, 237.4,  13.2, 228.3,  62.3, 262.9, 142.9,\n",
       "       240.1, 248.8,  70.6, 292.9, 112.9,  97.2, 265.6,  95.7, 290.7,\n",
       "       266.9,  74.7,  43.1, 228. , 202.5, 177. , 293.6, 206.9,  25.1,\n",
       "       175.1,  89.7, 239.9, 227.2,  66.9, 199.8, 100.4, 216.4, 182.6,\n",
       "       262.7, 198.9,   7.3, 136.2, 210.8, 210.7,  53.5, 261.3, 239.3,\n",
       "       102.7, 131.1,  69. ,  31.5, 139.3, 237.4, 216.8, 199.1, 109.8,\n",
       "        26.8, 129.4, 213.4,  16.9,  27.5, 120.5,   5.4, 116. ,  76.4,\n",
       "       239.8,  75.3,  68.4, 213.5, 193.2,  76.3, 110.7,  88.3, 109.8,\n",
       "       134.3,  28.6, 217.7, 250.9, 107.4, 163.3, 197.6, 184.9, 289.7,\n",
       "       135.2, 222.4, 296.4, 280.2, 187.9, 238.2, 137.9,  25. ,  90.4,\n",
       "        13.1, 255.4, 225.8, 241.7, 175.7, 209.6,  78.2,  75.1, 139.2,\n",
       "        76.4, 125.7,  19.4, 141.3,  18.8, 224. , 123.1, 229.5,  87.2,\n",
       "         7.8,  80.2, 220.3,  59.6,   0.7, 265.2,   8.4, 219.8,  36.9,\n",
       "        48.3,  25.6, 273.7,  43. , 184.9,  73.4, 193.7, 220.5, 104.6,\n",
       "        96.2, 140.3, 240.1, 243.2,  38. ,  44.7, 280.7, 121. , 197.6,\n",
       "       171.3, 187.8,   4.1,  93.9, 149.8,  11.7, 131.7, 172.5,  85.7,\n",
       "       188.4, 163.5, 117.2, 234.5,  17.9, 206.8, 215.4, 284.3,  50. ,\n",
       "       164.5,  19.6, 168.4, 222.4, 276.9, 248.4, 170.2, 276.7, 165.6,\n",
       "       156.6, 218.5,  56.2, 287.6, 253.8, 205. , 139.5, 191.1, 286. ,\n",
       "        18.7,  39.5,  75.5,  17.2, 166.8, 149.7,  38.2,  94.2, 177. ,\n",
       "       283.6, 232.1])"
      ]
     },
     "execution_count": 5,
     "metadata": {},
     "output_type": "execute_result"
    }
   ],
   "source": [
    "X[:,0]"
   ]
  },
  {
   "cell_type": "code",
   "execution_count": 6,
   "metadata": {},
   "outputs": [],
   "source": [
    "predictions = linreg.predict(X_test)"
   ]
  },
  {
   "cell_type": "code",
   "execution_count": 7,
   "metadata": {},
   "outputs": [
    {
     "data": {
      "text/plain": [
       "array([10.68000732,  8.67289687,  9.59627362, 24.89341048, 14.697364  ,\n",
       "        8.3567853 , 10.55863443, 18.38868264,  9.85132079, 17.86927795,\n",
       "       23.41528097, 10.68859833, 13.39700653, 17.10227442, 11.74725693,\n",
       "       13.31442741, 21.15105215,  9.1078251 , 14.1508319 , 18.85894126,\n",
       "       24.8577903 , 12.44648472, 16.57547935, 13.79888848,  7.80545687,\n",
       "       15.11832283, 14.69260423, 20.6616562 , 16.98730791,  8.88795212,\n",
       "       12.37433351, 20.80729034, 21.28995356, 21.8483045 ,  7.17317454,\n",
       "        7.05033262,  9.23136496, 15.59516171, 13.27468497,  7.2670912 ])"
      ]
     },
     "execution_count": 7,
     "metadata": {},
     "output_type": "execute_result"
    }
   ],
   "source": [
    "predictions"
   ]
  },
  {
   "cell_type": "code",
   "execution_count": 8,
   "metadata": {},
   "outputs": [
    {
     "data": {
      "text/plain": [
       "array([11.3,  8.4, 12. , 25.4, 16.7,  8.7,  7.2, 18.2,  9.2, 16.6, 24.2,\n",
       "       10.6, 15.5, 20.6, 11.8, 13.2, 17.4,  1.6, 14.7, 17. , 26.2, 10.3,\n",
       "       16.1, 12.9,  8.1, 15.2, 17.6, 22.6, 16.6,  8.5, 12.5, 23.7, 16.1,\n",
       "       21.8,  5.6,  6.7,  9.7, 17.9, 13.6,  7.2])"
      ]
     },
     "execution_count": 8,
     "metadata": {},
     "output_type": "execute_result"
    }
   ],
   "source": [
    "y_test"
   ]
  },
  {
   "cell_type": "code",
   "execution_count": 9,
   "metadata": {},
   "outputs": [],
   "source": [
    "import multiple_gradient"
   ]
  },
  {
   "cell_type": "code",
   "execution_count": 10,
   "metadata": {},
   "outputs": [
    {
     "name": "stdout",
     "output_type": "stream",
     "text": [
      "Did not converge after 100000 iterations . Try increasing max_iter.\n",
      "[ 359.42661274  254.76464364  420.51144379 1415.51089776  802.00664574\n",
      "  272.64276852  132.0416512  1123.34690952  176.6165409   956.44626775\n",
      " 1285.30920774  426.62400138  729.87442128  907.27553067  403.8684078\n",
      "  592.90985857 1263.94714202   78.2872965   437.21678728 1031.64482024\n",
      " 1407.09968439  653.45941421  851.26707819  643.74903482  253.48237384\n",
      "  633.49435255  784.79164508 1030.11383673 1040.23368625  165.5548742\n",
      "  382.18336505 1009.79377522 1322.49247233 1186.4234307    92.91387739\n",
      "  111.37503796  299.74753931  856.31695371  399.28274664  138.42302099]\n"
     ]
    }
   ],
   "source": [
    "linear_reg = multiple_gradient.LinearRegression()\n",
    "linear_reg.fit(X_train, y_train)\n",
    "predictions = linear_reg.predict(X_test)\n",
    "print(predictions)"
   ]
  },
  {
   "cell_type": "code",
   "execution_count": 11,
   "metadata": {},
   "outputs": [
    {
     "data": {
      "text/plain": [
       "(200, 2)"
      ]
     },
     "execution_count": 11,
     "metadata": {},
     "output_type": "execute_result"
    }
   ],
   "source": [
    "X.shape"
   ]
  },
  {
   "cell_type": "code",
   "execution_count": 12,
   "metadata": {},
   "outputs": [],
   "source": [
    "J_arr = np.zeros(10000)\n",
    "J_arr[1] = 2"
   ]
  },
  {
   "cell_type": "code",
   "execution_count": 13,
   "metadata": {},
   "outputs": [],
   "source": [
    "def transpose(X):    # sourcery skip: use-itertools-product\n",
    "    \"\"\"\n",
    "    Transposes a matrix\n",
    "\n",
    "    Args:\n",
    "        X ([array]): a nxm array\n",
    "    \"\"\"\n",
    "    n = X.shape[0]\n",
    "    m = X.shape[1]\n",
    "    X_transpose = np.zeros(shape=(m,n))\n",
    "    for m in range(X.shape[1]):\n",
    "        for n in range(X.shape[0]):\n",
    "            X_transpose[m][n] = X[n,m]\n",
    "    return X_transpose"
   ]
  },
  {
   "cell_type": "code",
   "execution_count": 14,
   "metadata": {},
   "outputs": [
    {
     "name": "stdout",
     "output_type": "stream",
     "text": [
      "(2, 200)\n"
     ]
    }
   ],
   "source": [
    "X_tranpose = transpose(X)\n",
    "print(X_tranpose.shape)"
   ]
  },
  {
   "cell_type": "code",
   "execution_count": null,
   "metadata": {},
   "outputs": [],
   "source": []
  }
 ],
 "metadata": {
  "kernelspec": {
   "display_name": "Python 3",
   "language": "python",
   "name": "python3"
  },
  "language_info": {
   "codemirror_mode": {
    "name": "ipython",
    "version": 3
   },
   "file_extension": ".py",
   "mimetype": "text/x-python",
   "name": "python",
   "nbconvert_exporter": "python",
   "pygments_lexer": "ipython3",
   "version": "3.10.12"
  }
 },
 "nbformat": 4,
 "nbformat_minor": 2
}
